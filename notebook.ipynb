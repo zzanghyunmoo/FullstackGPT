{
 "cells": [
  {
   "cell_type": "code",
   "execution_count": 17,
   "metadata": {},
   "outputs": [],
   "source": [
    "from langchain.chat_models import ChatOpenAI\n",
    "from langchain.prompts import PromptTemplate, ChatPromptTemplate\n",
    "\n",
    "chat = ChatOpenAI(max_tokens=1024, temperature=0.1)"
   ]
  },
  {
   "cell_type": "code",
   "execution_count": 30,
   "metadata": {},
   "outputs": [
    {
     "data": {
      "text/plain": [
       "['Hello', 'How', 'are', 'you']"
      ]
     },
     "execution_count": 30,
     "metadata": {},
     "output_type": "execute_result"
    }
   ],
   "source": [
    "from langchain.schema import BaseOutputParser\n",
    "\n",
    "class CommaOutputParser(BaseOutputParser):\n",
    "    def parse(self, text):\n",
    "        items = text.split(\",\")\n",
    "        return list(map(str.strip, items))\n",
    "    \n",
    "\n",
    "p = CommaOutputParser()\n",
    "p.parse(\" Hello, How ,are, you\")"
   ]
  },
  {
   "cell_type": "code",
   "execution_count": 39,
   "metadata": {},
   "outputs": [],
   "source": [
    "template = ChatPromptTemplate.from_messages([\n",
    "    (\"system\", \"You are a list generating machine. Everything you are asked will be answered with a comma seperated list of max {max_items}. in lower case. Do Not Reply with anything else\"),\n",
    "    (\"human\", \"{question}\")\n",
    "])\n"
   ]
  },
  {
   "cell_type": "code",
   "execution_count": 44,
   "metadata": {},
   "outputs": [
    {
     "data": {
      "text/plain": [
       "['피카츄', '파이리', '꼬부기', '이상해씨']"
      ]
     },
     "execution_count": 44,
     "metadata": {},
     "output_type": "execute_result"
    }
   ],
   "source": [
    "chain = template | chat | CommaOutputParser()\n",
    "chain.invoke({\n",
    "    \"max_items\": 5,\n",
    "    \"question\": \"포켓몬이 뭐야?\"\n",
    "})"
   ]
  },
  {
   "cell_type": "code",
   "execution_count": 55,
   "metadata": {},
   "outputs": [
    {
     "name": "stdout",
     "output_type": "stream",
     "text": [
      "Great choice! Korean cuisine is known for its bold flavors and unique ingredients. Let's start with a classic and delicious recipe for Bibimbap, a popular Korean mixed rice dish. Here's how you can make it at home:\n",
      "\n",
      "Ingredients:\n",
      "- 2 cups cooked short-grain rice\n",
      "- 1 carrot, julienned\n",
      "- 1 zucchini, julienned\n",
      "- 1 cup spinach\n",
      "- 1 cup bean sprouts\n",
      "- 4 shiitake mushrooms, sliced\n",
      "- 1/2 pound beef (such as ribeye or sirloin), thinly sliced\n",
      "- 4 eggs\n",
      "- Sesame oil\n",
      "- Soy sauce\n",
      "- Gochujang (Korean red chili paste)\n",
      "- Sesame seeds\n",
      "- Salt\n",
      "- Vegetable oil\n",
      "\n",
      "Instructions:\n",
      "1. Marinate the beef: In a bowl, mix the beef slices with 2 tablespoons of soy sauce, 1 tablespoon of sesame oil, and a pinch of black pepper. Set aside to marinate for at least 15 minutes.\n",
      "\n",
      "2. Prepare the vegetables:\n",
      "- Carrot: Heat a little vegetable oil in a pan and stir-fry the julienned carrot with a pinch of salt until slightly softened. Set aside.\n",
      "- Zucchini: Repeat the same process for the julienned zucchini.\n",
      "- Spinach: Blanch the spinach in boiling water for 1-2 minutes, then rinse with cold water and squeeze out excess water. Season with a pinch of salt and a drizzle of sesame oil.\n",
      "- Bean sprouts: Blanch the bean sprouts in boiling water for 2-3 minutes, then rinse with cold water and squeeze out excess water. Season with salt and sesame oil.\n",
      "- Shiitake mushrooms: Heat a little vegetable oil in a pan and stir-fry the sliced mushrooms with a pinch of salt until cooked. Set aside.\n",
      "\n",
      "3. Cook the beef: In the same pan, cook the marinated beef over high heat until browned and cooked through. Set aside.\n",
      "\n",
      "4. Fry the eggs: In a separate pan, fry the eggs sunny-side up or over easy.\n",
      "\n",
      "5. Assemble the Bibimbap:\n",
      "- Divide the cooked rice into serving bowls.\n",
      "- Arrange the cooked vegetables and beef on top of the rice.\n",
      "- Place a fried egg on top.\n",
      "- Serve with a dollop of Gochujang and a sprinkle of sesame seeds.\n",
      "\n",
      "6. Mix everything together before eating to enjoy the flavors of all the ingredients combined.\n",
      "\n",
      "Enjoy your homemade Bibimbap! Feel free to customize the toppings based on your preferences.한국 요리를 선택하신 것을 축하드립니다! 한국 요리는 강렬한 맛과 독특한 재료로 유명합니다. 가장 전통적이고 맛있는 한국 혼밥 요리인 비빔밥 레시피를 알려드리겠습니다.\n",
      "\n",
      "재료:\n",
      "- 2컵 삶은 찹쌀밥\n",
      "- 당근 1개, 쇠고기 1/2 파운드(립아이 또는 썰린 쇠고기)\n",
      "- 호박 1개, 시금치 1컵\n",
      "- 콩나물 1컵, 표고버섯 4개\n",
      "- 계란 4개\n",
      "- 참기름, 간장, 고추장, 깨, 소금, 식용유\n",
      "\n",
      "요리법:\n",
      "1. 쇠고기 양념: 그릇에 쇠고기를 넣고 간장 2큰술, 참기름 1큰술, 후추 약간을 넣고 재워주세요.\n",
      "2. 채소 손질:\n",
      "- 당근: 당근을 채 썰어 식용유에 소금을 넣고 볶아주세요.\n",
      "- 호박: 호박도 같은 방법으로 볶아주세요.\n",
      "- 시금치: 끓는 물에 1-2분 데쳐 찬물에 헹궈 물기를 짜고 소금과 참기름을 넣어주세요.\n",
      "- 콩나물: 끓는 물에 2-3분 데쳐 찬물에 헹궈 물기를 짜고 소금과 참기름을 넣어주세요.\n",
      "- 표고버섯: 식용유에 소금을 넣고 볶아주세요.\n",
      "3. 쇠고기 볶기: 같은 팬에 양념한 쇠고기를 익히고 채에 담아주세요.\n",
      "4. 계란 지단: 다른 팬에 계란을 지단으로 익혀주세요.\n",
      "5. 비빔밥 만들기:\n",
      "- 밥을 그릇에 담고 채소와 쇠고기를 올려주세요.\n",
      "- 지단 계란을 올려주세요.\n",
      "- 고추장과 깨를 뿌려주세요.\n",
      "6. 모든 재료를 섞어 맛을 즐기세요.\n",
      "\n",
      "맛있는 비빔밥을 즐기세요! 선호에 따라 토핑을 맞춤 설정해도 좋습니다."
     ]
    },
    {
     "data": {
      "text/plain": [
       "AIMessageChunk(content='한국 요리를 선택하신 것을 축하드립니다! 한국 요리는 강렬한 맛과 독특한 재료로 유명합니다. 가장 전통적이고 맛있는 한국 혼밥 요리인 비빔밥 레시피를 알려드리겠습니다.\\n\\n재료:\\n- 2컵 삶은 찹쌀밥\\n- 당근 1개, 쇠고기 1/2 파운드(립아이 또는 썰린 쇠고기)\\n- 호박 1개, 시금치 1컵\\n- 콩나물 1컵, 표고버섯 4개\\n- 계란 4개\\n- 참기름, 간장, 고추장, 깨, 소금, 식용유\\n\\n요리법:\\n1. 쇠고기 양념: 그릇에 쇠고기를 넣고 간장 2큰술, 참기름 1큰술, 후추 약간을 넣고 재워주세요.\\n2. 채소 손질:\\n- 당근: 당근을 채 썰어 식용유에 소금을 넣고 볶아주세요.\\n- 호박: 호박도 같은 방법으로 볶아주세요.\\n- 시금치: 끓는 물에 1-2분 데쳐 찬물에 헹궈 물기를 짜고 소금과 참기름을 넣어주세요.\\n- 콩나물: 끓는 물에 2-3분 데쳐 찬물에 헹궈 물기를 짜고 소금과 참기름을 넣어주세요.\\n- 표고버섯: 식용유에 소금을 넣고 볶아주세요.\\n3. 쇠고기 볶기: 같은 팬에 양념한 쇠고기를 익히고 채에 담아주세요.\\n4. 계란 지단: 다른 팬에 계란을 지단으로 익혀주세요.\\n5. 비빔밥 만들기:\\n- 밥을 그릇에 담고 채소와 쇠고기를 올려주세요.\\n- 지단 계란을 올려주세요.\\n- 고추장과 깨를 뿌려주세요.\\n6. 모든 재료를 섞어 맛을 즐기세요.\\n\\n맛있는 비빔밥을 즐기세요! 선호에 따라 토핑을 맞춤 설정해도 좋습니다.')"
      ]
     },
     "execution_count": 55,
     "metadata": {},
     "output_type": "execute_result"
    }
   ],
   "source": [
    "from langchain.callbacks import StreamingStdOutCallbackHandler\n",
    "\n",
    "\n",
    "chat = ChatOpenAI(temperature=0.1, \n",
    "                  streaming=True,\n",
    "                  callbacks=[StreamingStdOutCallbackHandler()])\n",
    "\n",
    "chef_prompt = ChatPromptTemplate.from_messages([\n",
    "    (\"system\", \"You are a world-class international chef. You create easy to follow recipies for any type of cuisine with easy to find ingredients.\"),\n",
    "    (\"human\", \"I want to cook {cuisine} food.\")\n",
    "])\n",
    "chef_chain = chef_prompt | chat\n",
    "\n",
    "veg_prompt = ChatPromptTemplate.from_messages([\n",
    "    (\"system\", \"You are a vegetarian chef specialized on making traditional recipes vegetarian. You find alternative ingredients and explain their preparation. You don't radically modify the recipe. If there is no alternative for a food just say you don't know how to recipe it. Translate Korean\"), \n",
    "    (\"human\", \"{recipe}\")\n",
    "])\n",
    "veg_chain = veg_prompt | chat\n",
    "\n",
    "final_chain = {\"recipe\": chef_chain} | veg_chain\n",
    "final_chain.invoke({\n",
    "    \"cuisine\": \"Korean\"\n",
    "})"
   ]
  }
 ],
 "metadata": {
  "kernelspec": {
   "display_name": "env",
   "language": "python",
   "name": "python3"
  },
  "language_info": {
   "codemirror_mode": {
    "name": "ipython",
    "version": 3
   },
   "file_extension": ".py",
   "mimetype": "text/x-python",
   "name": "python",
   "nbconvert_exporter": "python",
   "pygments_lexer": "ipython3",
   "version": "3.9.6"
  }
 },
 "nbformat": 4,
 "nbformat_minor": 2
}
