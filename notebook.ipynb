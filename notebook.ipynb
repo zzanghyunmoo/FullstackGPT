{
 "cells": [
  {
   "cell_type": "code",
   "execution_count": 4,
   "metadata": {},
   "outputs": [],
   "source": [
    "from langchain.chat_models import ChatOpenAI\n",
    "from langchain.prompts import PromptTemplate, ChatPromptTemplate\n",
    "\n",
    "chat = ChatOpenAI(max_tokens=1024, temperature=0.1)"
   ]
  },
  {
   "cell_type": "code",
   "execution_count": 5,
   "metadata": {},
   "outputs": [
    {
     "data": {
      "text/plain": [
       "['Hello', 'How', 'are', 'you']"
      ]
     },
     "execution_count": 5,
     "metadata": {},
     "output_type": "execute_result"
    }
   ],
   "source": [
    "from langchain.schema import BaseOutputParser\n",
    "\n",
    "class CommaOutputParser(BaseOutputParser):\n",
    "    def parse(self, text):\n",
    "        items = text.split(\",\")\n",
    "        return list(map(str.strip, items))\n",
    "    \n",
    "\n",
    "p = CommaOutputParser()\n",
    "p.parse(\" Hello, How ,are, you\")"
   ]
  },
  {
   "cell_type": "code",
   "execution_count": 6,
   "metadata": {},
   "outputs": [],
   "source": [
    "template = ChatPromptTemplate.from_messages([\n",
    "    (\"system\", \"You are a list generating machine. Everything you are asked will be answered with a comma seperated list of max {max_items}. in lower case. Do Not Reply with anything else\"),\n",
    "    (\"human\", \"{question}\")\n",
    "])\n"
   ]
  },
  {
   "cell_type": "code",
   "execution_count": 7,
   "metadata": {},
   "outputs": [
    {
     "data": {
      "text/plain": [
       "['피카츄', '파이리', '꼬부기', '이상해씨', '꼬마돌']"
      ]
     },
     "execution_count": 7,
     "metadata": {},
     "output_type": "execute_result"
    }
   ],
   "source": [
    "chain = template | chat | CommaOutputParser()\n",
    "chain.invoke({\n",
    "    \"max_items\": 5,\n",
    "    \"question\": \"포켓몬이 뭐야?\"\n",
    "})"
   ]
  },
  {
   "cell_type": "code",
   "execution_count": 8,
   "metadata": {},
   "outputs": [
    {
     "name": "stdout",
     "output_type": "stream",
     "text": [
      "Great choice! How about trying to make Bibimbap? It's a delicious and colorful Korean rice dish that is packed with flavor. Here's a simple recipe for you to try at home:\n",
      "\n",
      "Ingredients:\n",
      "- 2 cups cooked white rice\n",
      "- 1 carrot, julienned\n",
      "- 1 zucchini, julienned\n",
      "- 1 cup bean sprouts\n",
      "- 1 cup spinach\n",
      "- 4 shiitake mushrooms, sliced\n",
      "- 1/2 pound beef (you can use ribeye or sirloin), thinly sliced\n",
      "- 4 eggs\n",
      "- Sesame oil\n",
      "- Soy sauce\n",
      "- Gochujang (Korean chili paste)\n",
      "- Sesame seeds\n",
      "- Salt and pepper\n",
      "- Vegetable oil\n",
      "\n",
      "Instructions:\n",
      "1. Marinate the beef slices with 2 tablespoons of soy sauce, 1 tablespoon of sesame oil, and a pinch of black pepper. Set aside to marinate for at least 15 minutes.\n",
      "2. Heat a pan over medium heat and add a little vegetable oil. Stir-fry the marinated beef until cooked through. Remove from the pan and set aside.\n",
      "3. In the same pan, add a little more oil if needed and stir-fry the carrots, zucchini, and mushrooms separately until they are cooked but still slightly crunchy. Season each with a pinch of salt. Set aside.\n",
      "4. Blanch the bean sprouts and spinach in boiling water for about 1 minute. Drain and squeeze out any excess water. Season the bean sprouts with a pinch of salt and a drizzle of sesame oil. Set aside.\n",
      "5. In the same pan, fry the eggs sunny side up or over easy.\n",
      "6. To assemble the bibimbap, divide the cooked rice among serving bowls. Arrange the cooked vegetables and beef on top of the rice. Place the fried egg on top.\n",
      "7. Serve the bibimbap with a dollop of gochujang on the side and sprinkle with sesame seeds.\n",
      "8. Mix everything together before eating to enjoy all the flavors combined.\n",
      "\n",
      "Enjoy your homemade Bibimbap!Ingredients:\n",
      "- 2 cups cooked white rice\n",
      "- 1 carrot, julienned (you can use a vegetable peeler to create thin strips)\n",
      "- 1 zucchini, julienned\n",
      "- 1 cup mung bean sprouts (you can blanch them in boiling water for about 1 minute)\n",
      "- 1 cup spinach (you can blanch and squeeze out excess water)\n",
      "- 4 shiitake mushrooms, sliced\n",
      "- Vegetarian beef substitute (you can use plant-based beef slices or tofu as a replacement), thinly sliced\n",
      "- 4 eggs (you can use a plant-based egg substitute)\n",
      "- Sesame oil\n",
      "- Soy sauce (use a vegetarian or vegan version)\n",
      "- Gochujang (Korean chili paste)\n",
      "- Sesame seeds\n",
      "- Salt and pepper\n",
      "- Vegetable oil\n",
      "\n",
      "Instructions:\n",
      "1. Marinate the vegetarian beef slices with 2 tablespoons of soy sauce, 1 tablespoon of sesame oil, and a pinch of black pepper. Set aside to marinate for at least 15 minutes.\n",
      "2. Heat a pan over medium heat and add a little vegetable oil. Stir-fry the marinated vegetarian beef until cooked through. Remove from the pan and set aside.\n",
      "3. In the same pan, add a little more oil if needed and stir-fry the carrots, zucchini, and mushrooms separately until they are cooked but still slightly crunchy. Season each with a pinch of salt. Set aside.\n",
      "4. Blanch the mung bean sprouts and spinach in boiling water for about 1 minute. Drain and squeeze out any excess water. Season the bean sprouts with a pinch of salt and a drizzle of sesame oil. Set aside.\n",
      "5. In the same pan, fry the plant-based eggs sunny side up or over easy.\n",
      "6. To assemble the bibimbap, divide the cooked rice among serving bowls. Arrange the cooked vegetables and vegetarian beef on top of the rice. Place the fried egg substitute on top.\n",
      "7. Serve the bibimbap with a dollop of gochujang on the side and sprinkle with sesame seeds.\n",
      "8. Mix everything together before eating to enjoy all the flavors combined.\n",
      "\n",
      "Enjoy your homemade Vegetarian Bibimbap!"
     ]
    },
    {
     "data": {
      "text/plain": [
       "AIMessageChunk(content='Ingredients:\\n- 2 cups cooked white rice\\n- 1 carrot, julienned (you can use a vegetable peeler to create thin strips)\\n- 1 zucchini, julienned\\n- 1 cup mung bean sprouts (you can blanch them in boiling water for about 1 minute)\\n- 1 cup spinach (you can blanch and squeeze out excess water)\\n- 4 shiitake mushrooms, sliced\\n- Vegetarian beef substitute (you can use plant-based beef slices or tofu as a replacement), thinly sliced\\n- 4 eggs (you can use a plant-based egg substitute)\\n- Sesame oil\\n- Soy sauce (use a vegetarian or vegan version)\\n- Gochujang (Korean chili paste)\\n- Sesame seeds\\n- Salt and pepper\\n- Vegetable oil\\n\\nInstructions:\\n1. Marinate the vegetarian beef slices with 2 tablespoons of soy sauce, 1 tablespoon of sesame oil, and a pinch of black pepper. Set aside to marinate for at least 15 minutes.\\n2. Heat a pan over medium heat and add a little vegetable oil. Stir-fry the marinated vegetarian beef until cooked through. Remove from the pan and set aside.\\n3. In the same pan, add a little more oil if needed and stir-fry the carrots, zucchini, and mushrooms separately until they are cooked but still slightly crunchy. Season each with a pinch of salt. Set aside.\\n4. Blanch the mung bean sprouts and spinach in boiling water for about 1 minute. Drain and squeeze out any excess water. Season the bean sprouts with a pinch of salt and a drizzle of sesame oil. Set aside.\\n5. In the same pan, fry the plant-based eggs sunny side up or over easy.\\n6. To assemble the bibimbap, divide the cooked rice among serving bowls. Arrange the cooked vegetables and vegetarian beef on top of the rice. Place the fried egg substitute on top.\\n7. Serve the bibimbap with a dollop of gochujang on the side and sprinkle with sesame seeds.\\n8. Mix everything together before eating to enjoy all the flavors combined.\\n\\nEnjoy your homemade Vegetarian Bibimbap!')"
      ]
     },
     "execution_count": 8,
     "metadata": {},
     "output_type": "execute_result"
    }
   ],
   "source": [
    "from langchain.callbacks import StreamingStdOutCallbackHandler\n",
    "\n",
    "chat = ChatOpenAI(temperature=0.1, \n",
    "                  streaming=True,\n",
    "                  callbacks=[StreamingStdOutCallbackHandler()])\n",
    "\n",
    "chef_prompt = ChatPromptTemplate.from_messages([\n",
    "    (\"system\", \"You are a world-class international chef. You create easy to follow recipies for any type of cuisine with easy to find ingredients.\"),\n",
    "    (\"human\", \"I want to cook {cuisine} food.\")\n",
    "])\n",
    "chef_chain = chef_prompt | chat\n",
    "\n",
    "veg_prompt = ChatPromptTemplate.from_messages([\n",
    "    (\"system\", \"You are a vegetarian chef specialized on making traditional recipes vegetarian. You find alternative ingredients and explain their preparation. You don't radically modify the recipe. If there is no alternative for a food just say you don't know how to recipe it. Translate Korean\"), \n",
    "    (\"human\", \"{recipe}\")\n",
    "])\n",
    "veg_chain = veg_prompt | chat\n",
    "\n",
    "final_chain = {\"recipe\": chef_chain} | veg_chain\n",
    "final_chain.invoke({\n",
    "    \"cuisine\": \"Korean\"\n",
    "})"
   ]
  },
  {
   "cell_type": "code",
   "execution_count": 14,
   "metadata": {},
   "outputs": [
    {
     "name": "stdout",
     "output_type": "stream",
     "text": [
      "AI: \n",
      "        Here is what I know:\n",
      "        Capital: Ankara\n",
      "        Language: Turkish\n",
      "        Food: Kebab and Baklava\n",
      "        Currency: Turkish Lira"
     ]
    },
    {
     "data": {
      "text/plain": [
       "AIMessageChunk(content='AI: \\n        Here is what I know:\\n        Capital: Ankara\\n        Language: Turkish\\n        Food: Kebab and Baklava\\n        Currency: Turkish Lira')"
      ]
     },
     "execution_count": 14,
     "metadata": {},
     "output_type": "execute_result"
    }
   ],
   "source": [
    "from langchain.callbacks import StreamingStdOutCallbackHandler\n",
    "from langchain.prompts.few_shot import FewShotPromptTemplate\n",
    "\n",
    "chat = ChatOpenAI(temperature=0.1, \n",
    "                  streaming=True,\n",
    "                  callbacks=[StreamingStdOutCallbackHandler()])\n",
    "\n",
    "examples = [\n",
    "    {\n",
    "        \"question\": \"What do you know about France?\",\n",
    "        \"answer\": \"\"\"\n",
    "        Here is what I know:\n",
    "        Capital: Paris\n",
    "        Language: French\n",
    "        Food: Wine and Cheese\n",
    "        Currency: Euro\n",
    "        \"\"\",\n",
    "    },\n",
    "    {\n",
    "        \"question\": \"What do you know about Italy?\",\n",
    "        \"answer\": \"\"\"\n",
    "        I know this:\n",
    "        Capital: Rome\n",
    "        Language: Italian\n",
    "        Food: Pizza and Pasta\n",
    "        Currency: Euro\n",
    "        \"\"\",\n",
    "    },\n",
    "    {\n",
    "        \"question\": \"What do you know about Greece?\",\n",
    "        \"answer\": \"\"\"\n",
    "        I know this:\n",
    "        Capital: Athens\n",
    "        Language: Greek\n",
    "        Food: Souvlaki and Feta Cheese\n",
    "        Currency: Euro\n",
    "        \"\"\",\n",
    "    },\n",
    "]\n",
    "\n",
    "\n",
    "example_prompt = PromptTemplate.from_template(\"Human: {question}\\nAI: {answer}\")\n",
    "prompt = FewShotPromptTemplate(\n",
    "    example_prompt=example_prompt,\n",
    "    examples=examples,\n",
    "    suffix=\"What do you know about {country}?\",\n",
    "    input_variables=[\"country\"]\n",
    ")\n",
    "\n",
    "chain = prompt | chat\n",
    "chain.invoke({\n",
    "    \"country\": \"Turkey\",\n",
    "})"
   ]
  }
 ],
 "metadata": {
  "kernelspec": {
   "display_name": "env",
   "language": "python",
   "name": "python3"
  },
  "language_info": {
   "codemirror_mode": {
    "name": "ipython",
    "version": 3
   },
   "file_extension": ".py",
   "mimetype": "text/x-python",
   "name": "python",
   "nbconvert_exporter": "python",
   "pygments_lexer": "ipython3",
   "version": "3.9.6"
  }
 },
 "nbformat": 4,
 "nbformat_minor": 2
}
