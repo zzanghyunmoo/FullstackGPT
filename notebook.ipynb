{
 "cells": [
  {
   "cell_type": "code",
   "execution_count": 8,
   "metadata": {},
   "outputs": [
    {
     "data": {
      "text/plain": [
       "'멕시코와 한국 사이의 직선 거리는 약 12,500km 입니다.'"
      ]
     },
     "execution_count": 8,
     "metadata": {},
     "output_type": "execute_result"
    }
   ],
   "source": [
    "from langchain.chat_models import ChatOpenAI\n",
    "from langchain.prompts import PromptTemplate, ChatPromptTemplate\n",
    "\n",
    "chat = ChatOpenAI(max_tokens=1024, temperature=0.1)\n",
    "\n",
    "template = PromptTemplate.from_template(\"{country_a}와 {country_b} 사이의 거리를 구하세요\")\n",
    "propmt = template.format(country_a=\"멕시코\", country_b=\"한국\")"
   ]
  },
  {
   "cell_type": "code",
   "execution_count": 11,
   "metadata": {},
   "outputs": [
    {
     "data": {
      "text/plain": [
       "AIMessage(content='The distance between South Korea and the United States is approximately 10,000 kilometers. My name is Watermelon Doctor.')"
      ]
     },
     "execution_count": 11,
     "metadata": {},
     "output_type": "execute_result"
    }
   ],
   "source": [
    "template = ChatPromptTemplate.from_messages(\n",
    "    [\n",
    "        (\"system\", \"넌 최고의 지리학 전문가야. 그리고 넌 {language}로만 대답해야 해.\"),\n",
    "        (\"ai\", \"안년, 난 {name}\"),\n",
    "        (\"human\", \"{country_a}와 {country_b} 사이의 거리를 구하세요. 그리고 당신의 이름을 알려주세요.\")\n",
    "    ]\n",
    ")\n",
    "prompt = template.format_messages(\n",
    "    language=\"English\",\n",
    "    name=\"Socrates\",\n",
    "    country_a=\"대한민국\",\n",
    "    country_b=\"미국\"\n",
    ")\n",
    "chat.predict_messages(messages=prompt)"
   ]
  },
  {
   "cell_type": "code",
   "execution_count": null,
   "metadata": {},
   "outputs": [],
   "source": []
  }
 ],
 "metadata": {
  "kernelspec": {
   "display_name": "env",
   "language": "python",
   "name": "python3"
  },
  "language_info": {
   "codemirror_mode": {
    "name": "ipython",
    "version": 3
   },
   "file_extension": ".py",
   "mimetype": "text/x-python",
   "name": "python",
   "nbconvert_exporter": "python",
   "pygments_lexer": "ipython3",
   "version": "3.9.6"
  }
 },
 "nbformat": 4,
 "nbformat_minor": 2
}
